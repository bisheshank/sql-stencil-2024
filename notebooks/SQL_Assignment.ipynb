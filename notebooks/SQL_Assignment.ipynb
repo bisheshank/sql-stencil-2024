{
 "cells": [
  {
   "cell_type": "markdown",
   "id": "19cd849b",
   "metadata": {
    "tags": []
   },
   "source": [
    "# SQL Assignment\n",
    "\n",
    "SQL is the language of relational databases. It's important to know how to query and manipulate structured data so that when you end up building your own database, you have an idea of how to use it. In this project, we'll practice writing SQL queries for the iMDb database.\n",
    "\n",
    "This notebook will include the prompts for you to write the SQL queries to get the desired data. At the end, there is a section for you to see if the queries make sense or not.\n",
    "\n",
    "## Getting started\n",
    "\n",
    "Confirm that you can see 'SQL_Assignment.ipynb' and 'database.db' in the Jupyter Lab sidebar. If so, then you're ready to go."
   ]
  },
  {
   "cell_type": "markdown",
   "id": "408ce7b4",
   "metadata": {
    "tags": []
   },
   "source": [
    "## **SQL Queries**\n",
    "\n",
    "This assignment consists of a set of prompts for which you should write an SQL query to get the appropriate results from \"database.db\". There are three parts of the assignment. The query you have to write will increase in complexity in each section. "
   ]
  },
  {
   "cell_type": "markdown",
   "id": "488c5235-58d4-4a11-b962-f7a10d230c39",
   "metadata": {},
   "source": [
    "We have written a helper function for you that conveniently returns results as a [pandas dataframe](https://pandas.pydata.org/docs/reference/api/pandas.DataFrame.html). Make sure that you run the following cell before trying to run any subsequent cells, as otherwise the environment will not register this helper function:"
   ]
  },
  {
   "cell_type": "code",
   "execution_count": null,
   "id": "fcbc797c-36af-41fe-b9f2-3d15c40a40fa",
   "metadata": {},
   "outputs": [],
   "source": [
    "import sqlite3\n",
    "import pandas as pd\n",
    "def query_sql(query):\n",
    "    if query.isspace():\n",
    "        return \"An empty query won't find anything!\"\n",
    "    r = pd.read_sql(query, sqlite3.connect('database.db'))\n",
    "    return r"
   ]
  },
  {
   "cell_type": "markdown",
   "id": "e80d8598-460b-41fe-9aa9-5161b46772e7",
   "metadata": {},
   "source": [
    "You can pass an SQL query to this helper function as a string, and it will return a dataframe. For example, the following query returns the names of each of the tables in the database:"
   ]
  },
  {
   "cell_type": "code",
   "execution_count": null,
   "id": "b1ea8fa3-7537-468b-9e2d-de256f3823c0",
   "metadata": {},
   "outputs": [],
   "source": [
    "pd.set_option('display.max_colwidth', None)\n",
    "query_sql(\"SELECT sql FROM sqlite_master WHERE type='table';\")"
   ]
  },
  {
   "cell_type": "markdown",
   "id": "c0e3ea72-09e9-4573-8376-af85b4db7777",
   "metadata": {},
   "source": [
    "There are 5 relevant tables in this assignment, which has table and column names as follow:\n",
    "- `names` : a table containing director's name and their details\n",
    "    - `nconst` : a text representing the unique id of each director's name\n",
    "    - `primary_name` : a text referring to the primary name of the director\n",
    "    - `birth_year` : an integer representing the year of birth of the director\n",
    "    - `death_year` : an integer representing the year of death of the director\n",
    "- `ratings` : a table representing the ratings of the movies\n",
    "    - `tconst` : a text representing the unique id of each movie's name\n",
    "    - `avg_rating` : a number representing the average ratings of the movie\n",
    "    - `num_votes` : an integer representing the number of votes placed on the specific movie\n",
    "- `crews` : a table showing which movie is directed by which director\n",
    "    - `id` : The auto-increasing id for each movie-director pairing \n",
    "    - `tconst` :  a text representing the unique id of each movie's name (foreign key from tconst in titles)\n",
    "    - `director` : a text representing the unique id of each director's name (foreign key from nconst)\n",
    "- `titles` : a table displaying the name of the movie\n",
    "    - `tconst` : a text representing the unique id of each movie's name\n",
    "    - `type` : a type of media (all are \"movie\" in this case)\n",
    "    - `primary_title` : a text representing the titles of the movie \n",
    "    - `original_title` : a text representing the \"original\" titles of the movie (in case of foreign movie)\n",
    "    - `start_year` : an integer showing the year the movie starts in the theatre\n",
    "    - `runtime_minutes` : an integer showing the duration of movie show\n",
    "- `title_genres` : a table showing the genre of the movie\n",
    "    - `tconst` : a text representing the unique id of each movie's name\n",
    "    - `genre` : a text representing the genre of the movie\n",
    "\n",
    "Here is another query that retrieves all of the rows in the `titles` table:"
   ]
  },
  {
   "cell_type": "code",
   "execution_count": null,
   "id": "010bb494-656c-4d41-a23a-2d35a80522c4",
   "metadata": {},
   "outputs": [],
   "source": [
    "query_sql(\"SELECT * from titles\")"
   ]
  },
  {
   "cell_type": "markdown",
   "id": "56e4a62e-7128-499d-97f6-c2c6799eac9f",
   "metadata": {},
   "source": [
    "You're now ready to start the assigment! "
   ]
  },
  {
   "cell_type": "markdown",
   "id": "a723df5f",
   "metadata": {},
   "source": [
    "## **Part 1:**"
   ]
  },
  {
   "cell_type": "markdown",
   "id": "6a821cde",
   "metadata": {},
   "source": [
    "1. Write a SQL query to find `primary_title` of top 10 movies which have received an `avg_rating` of more than or equal to 8.5, or have been voted by more than or equal to 1000000 people. Your results should be sorted by the average rating in descending order."
   ]
  },
  {
   "cell_type": "code",
   "execution_count": null,
   "id": "55286d8a",
   "metadata": {},
   "outputs": [],
   "source": [
    "## Answer for Part 1 Question 1\n",
    "p1q1 = \"\"\"\n",
    "\"\"\"\n",
    "# For testing\n",
    "query_sql(p1q1)"
   ]
  },
  {
   "cell_type": "markdown",
   "id": "19284ba4",
   "metadata": {},
   "source": [
    "2. Write a SQL query that gets the director’s primary_name for the movie 'Poeta'."
   ]
  },
  {
   "cell_type": "code",
   "execution_count": null,
   "id": "d658a27c",
   "metadata": {},
   "outputs": [],
   "source": [
    "## Answer for Part 1 Question 2\n",
    "p1q2 = \"\"\"\n",
    "\n",
    "\"\"\"\n",
    "\n",
    "# For testing\n",
    "query_sql(p1q2)"
   ]
  },
  {
   "cell_type": "markdown",
   "id": "d6b7c774",
   "metadata": {},
   "source": [
    "3. Write a SQL query that returns the primary_name of directors and count of titles directed by each director. Results should be ordered by the count of titles in descending order"
   ]
  },
  {
   "cell_type": "code",
   "execution_count": null,
   "id": "bd965967",
   "metadata": {},
   "outputs": [],
   "source": [
    "## Answer for Part 1 Question 3\n",
    "p1q3 = \"\"\"\n",
    "\n",
    "\"\"\"\n",
    "\n",
    "# For testing\n",
    "query_sql(p1q3)"
   ]
  },
  {
   "cell_type": "markdown",
   "id": "09e72749",
   "metadata": {},
   "source": [
    "4. Write a SQL query that returns the different genres of all the movies and average runtime of all genres."
   ]
  },
  {
   "cell_type": "code",
   "execution_count": null,
   "id": "10623cf3",
   "metadata": {},
   "outputs": [],
   "source": [
    "## Answer for Part 1 Question 4\n",
    "p1q4 = \"\"\"\n",
    "\n",
    "\"\"\"\n",
    "\n",
    "# For testing\n",
    "query_sql(p1q4)"
   ]
  },
  {
   "cell_type": "markdown",
   "id": "2a37a37b",
   "metadata": {},
   "source": [
    "5. Write a SQL query that finds primary_name of directors who have directed movies that received an average rating less than or equal to 5."
   ]
  },
  {
   "cell_type": "code",
   "execution_count": null,
   "id": "16c6aa68",
   "metadata": {},
   "outputs": [],
   "source": [
    "## Answer for Part 1 Question 5\n",
    "p1q5 = \"\"\"\n",
    "\n",
    "\"\"\"\n",
    "\n",
    "# For testing\n",
    "query_sql(p1q5)"
   ]
  },
  {
   "cell_type": "markdown",
   "id": "f684443e",
   "metadata": {},
   "source": [
    "## **Part 2:**"
   ]
  },
  {
   "cell_type": "markdown",
   "id": "5b5e98dd",
   "metadata": {},
   "source": [
    "1. Write a SQL query that returns primary_title and start_year of movies whose titles begin with 'The' and were relased in a leap year."
   ]
  },
  {
   "cell_type": "code",
   "execution_count": null,
   "id": "f0b10ec8",
   "metadata": {},
   "outputs": [],
   "source": [
    "## Answer for Part 2 Question 1\n",
    "p2q1 = \"\"\"\n",
    "\n",
    "\"\"\"\n",
    "\n",
    "# For testing\n",
    "query_sql(p2q1)"
   ]
  },
  {
   "cell_type": "markdown",
   "id": "15374fc0",
   "metadata": {},
   "source": [
    "2. Write a SQL query that returns the primary_title and start_year of movies that were released 19 years after the birth year of Walt Disney. (Hint: the CAST function may come in handy)"
   ]
  },
  {
   "cell_type": "code",
   "execution_count": null,
   "id": "7e40f347",
   "metadata": {},
   "outputs": [],
   "source": [
    "## Answer for Part 2 Question 2\n",
    "p2q2 = \"\"\"\n",
    "\n",
    "\"\"\"\n",
    "\n",
    "# For testing\n",
    "query_sql(p2q2)"
   ]
  },
  {
   "cell_type": "markdown",
   "id": "9f32ba59",
   "metadata": {},
   "source": [
    "3. Write a SQL query that finds the primary_title, start_year and runtime_minutes of all shows whose runtime_minutes have exceeded the average runtime minutes of movies released in the same year. Results should be ordered by start year ascending and runtime minutes descending."
   ]
  },
  {
   "cell_type": "code",
   "execution_count": null,
   "id": "d6260318",
   "metadata": {},
   "outputs": [],
   "source": [
    "## Answer for Part 2 Question 3\n",
    "p2q3 = \"\"\"\n",
    "\n",
    "\"\"\"\n",
    "# For testing\n",
    "query_sql(p2q3)"
   ]
  },
  {
   "cell_type": "markdown",
   "id": "6d30ad18",
   "metadata": {},
   "source": [
    "## **Part 3:**"
   ]
  },
  {
   "cell_type": "markdown",
   "id": "e0549ec8",
   "metadata": {},
   "source": [
    "1. Write a SQL query that finds primary_title, avg_rating and reviews of 20 movies. The reviews depend on average rating. A movie with rating less than or equal to 3 should be reviewed as ‘poor’. A movie with rating greater than 3 and less than or equal to 6 should be reviewed as ‘okay’ and a movie with rating greater than 6 should be reviewed as ‘good’. The result should be sorted by the title (descending order) (Hint: The CASE function may come in handy)"
   ]
  },
  {
   "cell_type": "code",
   "execution_count": null,
   "id": "68ca42ba",
   "metadata": {},
   "outputs": [],
   "source": [
    "## Answer for Part 3 Question 1\n",
    "p3q1 = \"\"\"\n",
    "\n",
    "\"\"\"\n",
    "\n",
    "# For testing\n",
    "query_sql(p3q1)"
   ]
  },
  {
   "cell_type": "markdown",
   "id": "56ab11aa",
   "metadata": {},
   "source": [
    "2. Write a SQL query that returns the decades and percentage of titles which were released in the corresponding decade."
   ]
  },
  {
   "cell_type": "code",
   "execution_count": null,
   "id": "6f58368d-5252-4313-9ae0-4070481d12e8",
   "metadata": {},
   "outputs": [],
   "source": [
    "## Answer for Part 3 Question 2\n",
    "p3q2 = \"\"\"\n",
    "\n",
    "\"\"\"\n",
    "\n",
    "# For testing\n",
    "query_sql(p3q2)"
   ]
  },
  {
   "cell_type": "markdown",
   "id": "6dddbfaf",
   "metadata": {},
   "source": [
    "3. Write a SQL query that returns the name of director and a boolean value if the director has directed more than or equal to 5 movies. The boolean value will be 1 if true else 0."
   ]
  },
  {
   "cell_type": "code",
   "execution_count": null,
   "id": "9442803c",
   "metadata": {},
   "outputs": [],
   "source": [
    "## Answer for Part 3 Question 3\n",
    "p3q3 = \"\"\"\n",
    "\n",
    "\"\"\"\n",
    "\n",
    "# For testing\n",
    "query_sql(p3q3)"
   ]
  },
  {
   "cell_type": "markdown",
   "id": "51c498bb",
   "metadata": {},
   "source": [
    "## **Submission**"
   ]
  },
  {
   "cell_type": "markdown",
   "id": "1f54d474",
   "metadata": {},
   "source": [
    "To submit this assignment, run the cell below. It will create a zip file called `submit-me.zip` in this assignment's root directory. This zip contains all the queries you created in this notebook.\n",
    "\n",
    "Then, submit this `submit-me.zip` file to Gradescope under \"Assignment 2: SQL\" (using the \"Upload\" option, not submitting through GitHub)."
   ]
  },
  {
   "cell_type": "code",
   "execution_count": null,
   "id": "a86a073b-e250-4e6e-883a-fd95325bb3c5",
   "metadata": {},
   "outputs": [],
   "source": [
    "import os, shutil\n",
    "result = [p1q1, p1q2, p1q3, p1q4, p1q5, p2q1, p2q2, p2q3, p3q1, p3q2, p3q3]\n",
    "filenames = [\"1_1\", \"1_2\", \"1_3\", \"1_4\", \"1_5\", \"2_1\", \"2_2\", \"2_3\", \"3_1\", \"3_2\", \"3_3\"]\n",
    "working_dir = \"temp\"\n",
    "zip_path = \"../submit-me.zip\"\n",
    "if os.path.exists(zip_path):\n",
    "    os.remove(zip_path)\n",
    "os.makedirs(working_dir, exist_ok=True)\n",
    "\n",
    "for i in range(len(result)):\n",
    "    with open(working_dir + os.sep + filenames[i] + '.sql', 'w') as file:\n",
    "        file.write(result[i])\n",
    "\n",
    "!zip -j ../submit-me.zip {working_dir}/*\n",
    "shutil.rmtree(working_dir)\n",
    "        "
   ]
  },
  {
   "cell_type": "markdown",
   "id": "f2d7018b",
   "metadata": {},
   "source": [
    "## **END OF THE ASSIGNMENT**\n",
    "\n",
    "If you pass everything, Congrats! You've learned how to write SQL queries from the basic to complex structure which would be essential for working with databases!!"
   ]
  }
 ],
 "metadata": {
  "kernelspec": {
   "display_name": "Python 3 (ipykernel)",
   "language": "python",
   "name": "python3"
  },
  "language_info": {
   "codemirror_mode": {
    "name": "ipython",
    "version": 3
   },
   "file_extension": ".py",
   "mimetype": "text/x-python",
   "name": "python",
   "nbconvert_exporter": "python",
   "pygments_lexer": "ipython3",
   "version": "3.10.12"
  }
 },
 "nbformat": 4,
 "nbformat_minor": 5
}
